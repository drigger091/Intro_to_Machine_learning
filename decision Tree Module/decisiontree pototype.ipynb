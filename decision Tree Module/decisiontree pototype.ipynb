{
 "cells": [
  {
   "attachments": {},
   "cell_type": "markdown",
   "metadata": {},
   "source": [
    "# Decsion Trees are based on three points named Entropy , information gain and giny impurity\n",
    "# Ideal selection of nodes and predicting separate classes requires low entropy , high information gain , and low genie impurity\n",
    "\n",
    "# Entropy is the measure of randomness in the data with the formula H(S) = - sum(p_i * log2(p_i))\n",
    "# information gain computes the diffrence between the entropy after split and and average entropy after split(low entropy high information gain\n",
    "# and high entropy low information gain) IG(S, A) = H(S) - sum(|S_v|/|S| * H(S_v))\n",
    " # where IG(S, A) is the information gain of attribute A on set S, H(S) is the entropy of set S, |S_v| is the number of examples in subset S_v that have value v for attribute A, and |S| is the total number of examples in set S.\n",
    "\n",
    "# The summation is taken over all possible values of attribute A. The attribute that maximizes information gain is chosen as the splitting attribute at the current node.\n",
    "\n",
    "# To build a decision tree, the data is recursively split based on the attributes that provide the most information gain until a stopping criterion is met, such as all examples in a node belonging to the same class or the tree reaches a certain depth.\n",
    "\n",
    "# Information gain is a key concept in decision trees and is used to construct decision trees that are able to make accurate predictions for new, unseen data"
   ]
  },
  {
   "cell_type": "code",
   "execution_count": 117,
   "metadata": {},
   "outputs": [],
   "source": [
    "# installing the dependencies\n",
    "\n",
    "import pandas as pd\n",
    "import numpy as np\n",
    "from pprint import pprint\n",
    "from collections import Counter\n"
   ]
  },
  {
   "cell_type": "code",
   "execution_count": 118,
   "metadata": {},
   "outputs": [],
   "source": [
    "# importing the data set\n",
    "df = pd.read_csv(\"zoo.csv\",names=['Animal_name','air','Feathers','Eggs','Milk','Airborne','Aquatic','Predator','Toothed','Backbone'\n",
    ",'Breathes','Venomous','Fins','Legs','Tail','Domestic','Catsize','Class_type'])\n",
    "\n",
    "\n"
   ]
  },
  {
   "cell_type": "code",
   "execution_count": 119,
   "metadata": {},
   "outputs": [],
   "source": [
    "df.drop(index=0 ,axis= 0,inplace= True)\n"
   ]
  },
  {
   "cell_type": "code",
   "execution_count": 120,
   "metadata": {},
   "outputs": [],
   "source": [
    "df.drop('Animal_name',axis=1,inplace= True)  # the animal name is dropped as it irrelevant"
   ]
  },
  {
   "attachments": {},
   "cell_type": "markdown",
   "metadata": {},
   "source": [
    "# designing the decision tree"
   ]
  },
  {
   "attachments": {},
   "cell_type": "markdown",
   "metadata": {},
   "source": [
    "# Train algorithm == build the tree\n",
    "1> start at the top node and at each node select the best split based on the nformation given\n",
    "2>Greedy search loop all over th features and over all thresholds\n",
    "3> save the best split feature and split threshold at each node\n",
    "4> build the tree recursively\n",
    "5> apply stopping criteria\n",
    "maxmum depth , mimun samples at each node , no more class disttibution(entropy becomes zero)\n",
    "6> when we have a leaf node store the most common class\n",
    "\n",
    "\n",
    "\n",
    "# Predict ==== Traverse the tree\n",
    "1> Traverse the tree recursivly\n",
    "2> at each node we look at the best split feature vetorx and go left or right depending on x[feature_idx] <= threshold>\n",
    "\n",
    "3> when we reach the leaf node we return the store the most common class label"
   ]
  },
  {
   "cell_type": "code",
   "execution_count": 121,
   "metadata": {},
   "outputs": [],
   "source": [
    "# vector y siginfies all the class labels  (entropy is  E=-Σ⋅p(x)⋅log_2⁡(p(x))\n",
    "# p(x) = #x/n  (x is the count of instances) = n - number of occurences\n",
    "\n",
    "def entropy(y):\n",
    "    hist =np.bincount(y)\n",
    "    ps = hist /len(y)\n",
    "\n",
    "    entro = -np.sum([p * np.log2(p) for p in ps if p > 0])   # the condition as log2 doesnt work on -ve numbers\n",
    "    return entro\n",
    "\n",
    "\n",
    "class node:\n",
    "\n",
    "    def __init__(self, feature = None, threshold = None , left = None, right = None,*,value = None):\n",
    "        \n",
    "        self.feature = feature\n",
    "        self.threshold = threshold\n",
    "        self.left = left\n",
    "        self.right = right\n",
    "        self.value = value\n",
    "\n",
    "    \n",
    "    def  is_leaf_node(self):  # a partuclar value based on target class has been assigned to the leaf node no further split\n",
    "        return self.value is not None\n",
    "    \n",
    "\n",
    "class DecisionTree:\n",
    "\n",
    "    def __init__(self, min_samples_split = 2 , max_depth = 100 , no_of_features = None):\n",
    "\n",
    "        self.min_samples_split = min_samples_split\n",
    "        self.max_depth = max_depth\n",
    "        self.no_of_features = no_of_features\n",
    "        self.root = None\n",
    "\n",
    "\n",
    "    def fit(self,X,y):\n",
    "        #grow tree   #safety feature\n",
    "\n",
    "        self.no_of_features = X.shape[1] if not self.no_of_features else min(self.no_of_features,X.shape[1])\n",
    "        self.root = self.grow_tree(X,y)\n",
    "\n",
    "    def grow_tree(self,X,y,depth =0):\n",
    "\n",
    "        n_sample ,n_features = X.shape\n",
    "        n_labels = len(np.unique(y))\n",
    "\n",
    "        # stopping criteria\n",
    "        if(depth >= self.max_depth\n",
    "           or n_labels ==1\n",
    "           or n_sample < self.min_samples_split):\n",
    "            \n",
    "            leaf_value = self.most_common_label(y)\n",
    "\n",
    "            return node(value=leaf_value)\n",
    "\n",
    "        feat_indexes = np.random(n_features,self.no_of_features, replace = False)\n",
    "\n",
    "    def predict(self,X):\n",
    "        #traverse the tree\n",
    "        pass\n",
    "\n",
    "    \n",
    "    def most_common_label(self,y):\n",
    "        counter = Counter(y)\n",
    "        most_common = counter.most_common(1)[0][0]\n",
    "        return most_common\n"
   ]
  },
  {
   "cell_type": "code",
   "execution_count": 129,
   "metadata": {},
   "outputs": [],
   "source": [
    "from sklearn.tree import DecisionTreeClassifier\n",
    "from sklearn.metrics import accuracy_score\n",
    "classifier = DecisionTreeClassifier()"
   ]
  },
  {
   "cell_type": "code",
   "execution_count": 123,
   "metadata": {},
   "outputs": [],
   "source": [
    "from sklearn.model_selection import train_test_split\n",
    "\n",
    "X = df.drop(\"Class_type\",axis= 1)\n",
    "y = df[[\"Class_type\"]]"
   ]
  },
  {
   "cell_type": "code",
   "execution_count": 124,
   "metadata": {},
   "outputs": [],
   "source": [
    "X_train,X_test,y_train,y_test = train_test_split(X,y,test_size= 0.3,random_state= 3)"
   ]
  },
  {
   "cell_type": "code",
   "execution_count": 125,
   "metadata": {},
   "outputs": [
    {
     "data": {
      "text/html": [
       "<style>#sk-container-id-3 {color: black;background-color: white;}#sk-container-id-3 pre{padding: 0;}#sk-container-id-3 div.sk-toggleable {background-color: white;}#sk-container-id-3 label.sk-toggleable__label {cursor: pointer;display: block;width: 100%;margin-bottom: 0;padding: 0.3em;box-sizing: border-box;text-align: center;}#sk-container-id-3 label.sk-toggleable__label-arrow:before {content: \"▸\";float: left;margin-right: 0.25em;color: #696969;}#sk-container-id-3 label.sk-toggleable__label-arrow:hover:before {color: black;}#sk-container-id-3 div.sk-estimator:hover label.sk-toggleable__label-arrow:before {color: black;}#sk-container-id-3 div.sk-toggleable__content {max-height: 0;max-width: 0;overflow: hidden;text-align: left;background-color: #f0f8ff;}#sk-container-id-3 div.sk-toggleable__content pre {margin: 0.2em;color: black;border-radius: 0.25em;background-color: #f0f8ff;}#sk-container-id-3 input.sk-toggleable__control:checked~div.sk-toggleable__content {max-height: 200px;max-width: 100%;overflow: auto;}#sk-container-id-3 input.sk-toggleable__control:checked~label.sk-toggleable__label-arrow:before {content: \"▾\";}#sk-container-id-3 div.sk-estimator input.sk-toggleable__control:checked~label.sk-toggleable__label {background-color: #d4ebff;}#sk-container-id-3 div.sk-label input.sk-toggleable__control:checked~label.sk-toggleable__label {background-color: #d4ebff;}#sk-container-id-3 input.sk-hidden--visually {border: 0;clip: rect(1px 1px 1px 1px);clip: rect(1px, 1px, 1px, 1px);height: 1px;margin: -1px;overflow: hidden;padding: 0;position: absolute;width: 1px;}#sk-container-id-3 div.sk-estimator {font-family: monospace;background-color: #f0f8ff;border: 1px dotted black;border-radius: 0.25em;box-sizing: border-box;margin-bottom: 0.5em;}#sk-container-id-3 div.sk-estimator:hover {background-color: #d4ebff;}#sk-container-id-3 div.sk-parallel-item::after {content: \"\";width: 100%;border-bottom: 1px solid gray;flex-grow: 1;}#sk-container-id-3 div.sk-label:hover label.sk-toggleable__label {background-color: #d4ebff;}#sk-container-id-3 div.sk-serial::before {content: \"\";position: absolute;border-left: 1px solid gray;box-sizing: border-box;top: 0;bottom: 0;left: 50%;z-index: 0;}#sk-container-id-3 div.sk-serial {display: flex;flex-direction: column;align-items: center;background-color: white;padding-right: 0.2em;padding-left: 0.2em;position: relative;}#sk-container-id-3 div.sk-item {position: relative;z-index: 1;}#sk-container-id-3 div.sk-parallel {display: flex;align-items: stretch;justify-content: center;background-color: white;position: relative;}#sk-container-id-3 div.sk-item::before, #sk-container-id-3 div.sk-parallel-item::before {content: \"\";position: absolute;border-left: 1px solid gray;box-sizing: border-box;top: 0;bottom: 0;left: 50%;z-index: -1;}#sk-container-id-3 div.sk-parallel-item {display: flex;flex-direction: column;z-index: 1;position: relative;background-color: white;}#sk-container-id-3 div.sk-parallel-item:first-child::after {align-self: flex-end;width: 50%;}#sk-container-id-3 div.sk-parallel-item:last-child::after {align-self: flex-start;width: 50%;}#sk-container-id-3 div.sk-parallel-item:only-child::after {width: 0;}#sk-container-id-3 div.sk-dashed-wrapped {border: 1px dashed gray;margin: 0 0.4em 0.5em 0.4em;box-sizing: border-box;padding-bottom: 0.4em;background-color: white;}#sk-container-id-3 div.sk-label label {font-family: monospace;font-weight: bold;display: inline-block;line-height: 1.2em;}#sk-container-id-3 div.sk-label-container {text-align: center;}#sk-container-id-3 div.sk-container {/* jupyter's `normalize.less` sets `[hidden] { display: none; }` but bootstrap.min.css set `[hidden] { display: none !important; }` so we also need the `!important` here to be able to override the default hidden behavior on the sphinx rendered scikit-learn.org. See: https://github.com/scikit-learn/scikit-learn/issues/21755 */display: inline-block !important;position: relative;}#sk-container-id-3 div.sk-text-repr-fallback {display: none;}</style><div id=\"sk-container-id-3\" class=\"sk-top-container\"><div class=\"sk-text-repr-fallback\"><pre>DecisionTreeClassifier()</pre><b>In a Jupyter environment, please rerun this cell to show the HTML representation or trust the notebook. <br />On GitHub, the HTML representation is unable to render, please try loading this page with nbviewer.org.</b></div><div class=\"sk-container\" hidden><div class=\"sk-item\"><div class=\"sk-estimator sk-toggleable\"><input class=\"sk-toggleable__control sk-hidden--visually\" id=\"sk-estimator-id-3\" type=\"checkbox\" checked><label for=\"sk-estimator-id-3\" class=\"sk-toggleable__label sk-toggleable__label-arrow\">DecisionTreeClassifier</label><div class=\"sk-toggleable__content\"><pre>DecisionTreeClassifier()</pre></div></div></div></div></div>"
      ],
      "text/plain": [
       "DecisionTreeClassifier()"
      ]
     },
     "execution_count": 125,
     "metadata": {},
     "output_type": "execute_result"
    }
   ],
   "source": [
    "classifier.fit(X_train,y_train)"
   ]
  },
  {
   "cell_type": "code",
   "execution_count": 126,
   "metadata": {},
   "outputs": [],
   "source": [
    "Y_pred = classifier.predict(X_test)"
   ]
  },
  {
   "cell_type": "code",
   "execution_count": 131,
   "metadata": {},
   "outputs": [
    {
     "data": {
      "text/plain": [
       "0.9354838709677419"
      ]
     },
     "execution_count": 131,
     "metadata": {},
     "output_type": "execute_result"
    }
   ],
   "source": [
    "accuracy_score(y_test,Y_pred)\n",
    "\n"
   ]
  },
  {
   "cell_type": "code",
   "execution_count": null,
   "metadata": {},
   "outputs": [],
   "source": []
  }
 ],
 "metadata": {
  "kernelspec": {
   "display_name": "Python 3",
   "language": "python",
   "name": "python3"
  },
  "language_info": {
   "codemirror_mode": {
    "name": "ipython",
    "version": 3
   },
   "file_extension": ".py",
   "mimetype": "text/x-python",
   "name": "python",
   "nbconvert_exporter": "python",
   "pygments_lexer": "ipython3",
   "version": "3.10.6"
  },
  "orig_nbformat": 4
 },
 "nbformat": 4,
 "nbformat_minor": 2
}
