{
 "cells": [
  {
   "cell_type": "code",
   "execution_count": 17,
   "metadata": {},
   "outputs": [],
   "source": [
    "import numpy as np\n",
    "import pandas as pd"
   ]
  },
  {
   "cell_type": "code",
   "execution_count": 18,
   "metadata": {},
   "outputs": [],
   "source": [
    "pointa = [1,1]\n",
    "pointb = [2,2]"
   ]
  },
  {
   "attachments": {},
   "cell_type": "markdown",
   "metadata": {},
   "source": [
    "# creating Euclidean distance\n",
    "# d = √((x2 - x1)² + (y2 - y1)²)"
   ]
  },
  {
   "cell_type": "code",
   "execution_count": 19,
   "metadata": {},
   "outputs": [
    {
     "name": "stdout",
     "output_type": "stream",
     "text": [
      "1.4142135623730951\n"
     ]
    }
   ],
   "source": [
    "\n",
    " \n",
    "dist = (pointa[0] - pointb[0])**2 + (pointa[1] - pointb[1])**2\n",
    "\n",
    "\n",
    "\n",
    "euclidean_dist = np.sqrt(dist)\n",
    "print(euclidean_dist)"
   ]
  },
  {
   "cell_type": "code",
   "execution_count": 24,
   "metadata": {},
   "outputs": [
    {
     "name": "stdout",
     "output_type": "stream",
     "text": [
      "1.7320508075688772\n"
     ]
    }
   ],
   "source": [
    "# taking into sonsideration 3 dimensions\n",
    "\n",
    "\n",
    "pointa = (1,1,1)\n",
    "pointb = (2,2,2)\n",
    "\n",
    "\n",
    "# calculating the distance\n",
    "\n",
    "dist1  = (pointa[0] - pointb[0])**2 + (pointa[1] - pointb[1])**2 + (pointa[2] - pointb[2])**2\n",
    "\n",
    "\n",
    "\n",
    "euclidean_dist1 = np.sqrt(dist1)\n",
    "print(euclidean_dist1)"
   ]
  },
  {
   "cell_type": "code",
   "execution_count": 26,
   "metadata": {},
   "outputs": [
    {
     "name": "stdout",
     "output_type": "stream",
     "text": [
      "2.23606797749979\n"
     ]
    }
   ],
   "source": [
    "# creating for multiple dimensions\n",
    "\n",
    "pointa = (1,1,1,1,1)\n",
    "pointb = (2,2,2,2,2)\n",
    "\n",
    "dist = 0\n",
    "\n",
    "for i in range(len(pointa)):\n",
    "    dist = dist + (pointa[i] - pointb[i])**2\n",
    "\n",
    "euclidean_dist = np.sqrt(dist)\n",
    "\n",
    "print(euclidean_dist)"
   ]
  },
  {
   "cell_type": "code",
   "execution_count": 27,
   "metadata": {},
   "outputs": [],
   "source": [
    "# creating the custom function for creating euclidean distance\n",
    "\n",
    "def get_euclidean_dist(p1,p2):\n",
    "\n",
    "    dist = 0\n",
    "\n",
    "    for i in range (len(p1)):\n",
    "\n",
    "        dist = dist + (p1[i] - p2[i])**2\n",
    "\n",
    "    euclidean_dist = np.sqrt(dist)\n",
    "\n",
    "    return euclidean_dist"
   ]
  },
  {
   "cell_type": "code",
   "execution_count": 29,
   "metadata": {},
   "outputs": [
    {
     "data": {
      "text/plain": [
       "1.7320508075688772"
      ]
     },
     "execution_count": 29,
     "metadata": {},
     "output_type": "execute_result"
    }
   ],
   "source": [
    "get_euclidean_dist((1,1,1),(2,2,2))"
   ]
  },
  {
   "attachments": {},
   "cell_type": "markdown",
   "metadata": {},
   "source": [
    "# creating manhattan distance formulae\n",
    "# d = |x2 - x1| + |y2 - y1|"
   ]
  },
  {
   "cell_type": "code",
   "execution_count": null,
   "metadata": {},
   "outputs": [],
   "source": []
  },
  {
   "cell_type": "code",
   "execution_count": null,
   "metadata": {},
   "outputs": [],
   "source": []
  },
  {
   "cell_type": "code",
   "execution_count": null,
   "metadata": {},
   "outputs": [],
   "source": []
  }
 ],
 "metadata": {
  "kernelspec": {
   "display_name": "Python 3",
   "language": "python",
   "name": "python3"
  },
  "language_info": {
   "codemirror_mode": {
    "name": "ipython",
    "version": 3
   },
   "file_extension": ".py",
   "mimetype": "text/x-python",
   "name": "python",
   "nbconvert_exporter": "python",
   "pygments_lexer": "ipython3",
   "version": "3.10.6"
  },
  "orig_nbformat": 4
 },
 "nbformat": 4,
 "nbformat_minor": 2
}
