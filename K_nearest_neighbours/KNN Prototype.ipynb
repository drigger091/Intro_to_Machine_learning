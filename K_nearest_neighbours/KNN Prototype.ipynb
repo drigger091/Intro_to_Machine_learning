{
 "cells": [
  {
   "cell_type": "code",
   "execution_count": 2,
   "metadata": {},
   "outputs": [],
   "source": [
    "import statistics\n",
    "import numpy as np\n",
    "import pandas as pd"
   ]
  },
  {
   "attachments": {},
   "cell_type": "markdown",
   "metadata": {},
   "source": [
    "  # Building the KNN classifier"
   ]
  },
  {
   "cell_type": "code",
   "execution_count": 3,
   "metadata": {},
   "outputs": [],
   "source": [
    "class KNN_classifier():\n",
    "\n",
    "    def __init__(self,distance_metric):\n",
    "\n",
    "    \n",
    "        self.get_distance_metric = distance_metric\n",
    "\n",
    "\n",
    "    def get_distance_metric(self,training_point,testing_point):  # getting the distance metric\n",
    "\n",
    "        if (self.get_distance_metric == \"euclidean\"):\n",
    "\n",
    "            dist = 0\n",
    "\n",
    "            for i in range(len(training_point[i] -1)): # as we have to avoid the target class\n",
    "\n",
    "                dist = dist + (training_point[i] - testing_point[i])**2\n",
    "\n",
    "            euclidean_distance = np.sqrt(dist)\n",
    "\n",
    "            return euclidean_distance\n",
    "        \n",
    "        elif (self.get_distance_metric == \"manhattan\"):\n",
    "\n",
    "            dist = 0\n",
    "\n",
    "            for i in range(len(training_point) -1):\n",
    "\n",
    "                dist = dist + abs(training_point[i] - testing_point[i])\n",
    "\n",
    "                manhattan_distance = dist\n",
    "\n",
    "                return manhattan_distance\n",
    "\n",
    "\n",
    "    def nearest_neighbour():\n",
    "        pass\n",
    "\n",
    "    def predict():\n",
    "        pass"
   ]
  },
  {
   "cell_type": "code",
   "execution_count": null,
   "metadata": {},
   "outputs": [],
   "source": []
  }
 ],
 "metadata": {
  "kernelspec": {
   "display_name": "Python 3",
   "language": "python",
   "name": "python3"
  },
  "language_info": {
   "codemirror_mode": {
    "name": "ipython",
    "version": 3
   },
   "file_extension": ".py",
   "mimetype": "text/x-python",
   "name": "python",
   "nbconvert_exporter": "python",
   "pygments_lexer": "ipython3",
   "version": "3.10.6"
  },
  "orig_nbformat": 4
 },
 "nbformat": 4,
 "nbformat_minor": 2
}
