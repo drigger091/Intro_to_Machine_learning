{
 "cells": [
  {
   "cell_type": "code",
   "execution_count": 46,
   "metadata": {},
   "outputs": [],
   "source": [
    "import pandas as pd\n",
    "import numpy as np"
   ]
  },
  {
   "cell_type": "code",
   "execution_count": 47,
   "metadata": {},
   "outputs": [
    {
     "data": {
      "text/html": [
       "<div>\n",
       "<style scoped>\n",
       "    .dataframe tbody tr th:only-of-type {\n",
       "        vertical-align: middle;\n",
       "    }\n",
       "\n",
       "    .dataframe tbody tr th {\n",
       "        vertical-align: top;\n",
       "    }\n",
       "\n",
       "    .dataframe thead th {\n",
       "        text-align: right;\n",
       "    }\n",
       "</style>\n",
       "<table border=\"1\" class=\"dataframe\">\n",
       "  <thead>\n",
       "    <tr style=\"text-align: right;\">\n",
       "      <th></th>\n",
       "      <th>Pregnancies</th>\n",
       "      <th>Glucose</th>\n",
       "      <th>BloodPressure</th>\n",
       "      <th>SkinThickness</th>\n",
       "      <th>Insulin</th>\n",
       "      <th>BMI</th>\n",
       "      <th>DiabetesPedigreeFunction</th>\n",
       "      <th>Age</th>\n",
       "      <th>Outcome</th>\n",
       "    </tr>\n",
       "  </thead>\n",
       "  <tbody>\n",
       "    <tr>\n",
       "      <th>0</th>\n",
       "      <td>6</td>\n",
       "      <td>148</td>\n",
       "      <td>72</td>\n",
       "      <td>35</td>\n",
       "      <td>0</td>\n",
       "      <td>33.6</td>\n",
       "      <td>0.627</td>\n",
       "      <td>50</td>\n",
       "      <td>1</td>\n",
       "    </tr>\n",
       "    <tr>\n",
       "      <th>1</th>\n",
       "      <td>1</td>\n",
       "      <td>85</td>\n",
       "      <td>66</td>\n",
       "      <td>29</td>\n",
       "      <td>0</td>\n",
       "      <td>26.6</td>\n",
       "      <td>0.351</td>\n",
       "      <td>31</td>\n",
       "      <td>0</td>\n",
       "    </tr>\n",
       "    <tr>\n",
       "      <th>2</th>\n",
       "      <td>8</td>\n",
       "      <td>183</td>\n",
       "      <td>64</td>\n",
       "      <td>0</td>\n",
       "      <td>0</td>\n",
       "      <td>23.3</td>\n",
       "      <td>0.672</td>\n",
       "      <td>32</td>\n",
       "      <td>1</td>\n",
       "    </tr>\n",
       "    <tr>\n",
       "      <th>3</th>\n",
       "      <td>1</td>\n",
       "      <td>89</td>\n",
       "      <td>66</td>\n",
       "      <td>23</td>\n",
       "      <td>94</td>\n",
       "      <td>28.1</td>\n",
       "      <td>0.167</td>\n",
       "      <td>21</td>\n",
       "      <td>0</td>\n",
       "    </tr>\n",
       "    <tr>\n",
       "      <th>4</th>\n",
       "      <td>0</td>\n",
       "      <td>137</td>\n",
       "      <td>40</td>\n",
       "      <td>35</td>\n",
       "      <td>168</td>\n",
       "      <td>43.1</td>\n",
       "      <td>2.288</td>\n",
       "      <td>33</td>\n",
       "      <td>1</td>\n",
       "    </tr>\n",
       "  </tbody>\n",
       "</table>\n",
       "</div>"
      ],
      "text/plain": [
       "   Pregnancies  Glucose  BloodPressure  SkinThickness  Insulin   BMI  \\\n",
       "0            6      148             72             35        0  33.6   \n",
       "1            1       85             66             29        0  26.6   \n",
       "2            8      183             64              0        0  23.3   \n",
       "3            1       89             66             23       94  28.1   \n",
       "4            0      137             40             35      168  43.1   \n",
       "\n",
       "   DiabetesPedigreeFunction  Age  Outcome  \n",
       "0                     0.627   50        1  \n",
       "1                     0.351   31        0  \n",
       "2                     0.672   32        1  \n",
       "3                     0.167   21        0  \n",
       "4                     2.288   33        1  "
      ]
     },
     "execution_count": 47,
     "metadata": {},
     "output_type": "execute_result"
    }
   ],
   "source": [
    "df = pd.read_csv(\"diabetes.csv\")\n",
    "\n",
    "df.head()"
   ]
  },
  {
   "cell_type": "code",
   "execution_count": 48,
   "metadata": {},
   "outputs": [],
   "source": [
    "X = df.drop(\"Outcome\",axis=1)\n",
    "Y = df[[\"Outcome\"]]"
   ]
  },
  {
   "cell_type": "code",
   "execution_count": 49,
   "metadata": {},
   "outputs": [],
   "source": [
    "from sklearn.preprocessing import StandardScaler\n",
    "\n",
    "scaler = StandardScaler()\n",
    "\n",
    "X = scaler.fit_transform(X)"
   ]
  },
  {
   "cell_type": "code",
   "execution_count": 50,
   "metadata": {},
   "outputs": [],
   "source": [
    "from sklearn.model_selection import train_test_split\n",
    "\n",
    "X_train , X_test ,Y_train, Y_test = train_test_split(X,Y,test_size=0.3,random_state=1)"
   ]
  },
  {
   "cell_type": "code",
   "execution_count": 51,
   "metadata": {},
   "outputs": [],
   "source": [
    "import tensorflow\n",
    "from tensorflow import keras\n",
    "from keras import Sequential\n",
    "from keras.layers import Dense"
   ]
  },
  {
   "cell_type": "code",
   "execution_count": 52,
   "metadata": {},
   "outputs": [],
   "source": [
    "model = Sequential()\n",
    "model.add(Dense(32,activation='relu',input_dim = 8))\n",
    "model.add(Dense(1,activation='sigmoid'))\n",
    "\n",
    "model.compile(optimizer='adam',loss = 'binary_crossentropy',metrics=['accuracy'])"
   ]
  },
  {
   "cell_type": "code",
   "execution_count": 53,
   "metadata": {},
   "outputs": [
    {
     "name": "stdout",
     "output_type": "stream",
     "text": [
      "Epoch 1/100\n"
     ]
    },
    {
     "name": "stdout",
     "output_type": "stream",
     "text": [
      "17/17 [==============================] - 1s 19ms/step - loss: 0.6008 - accuracy: 0.6965 - val_loss: 0.5827 - val_accuracy: 0.6840\n",
      "Epoch 2/100\n",
      "17/17 [==============================] - 0s 7ms/step - loss: 0.5703 - accuracy: 0.7039 - val_loss: 0.5515 - val_accuracy: 0.7056\n",
      "Epoch 3/100\n",
      "17/17 [==============================] - 0s 6ms/step - loss: 0.5477 - accuracy: 0.7132 - val_loss: 0.5263 - val_accuracy: 0.7316\n",
      "Epoch 4/100\n",
      "17/17 [==============================] - 0s 7ms/step - loss: 0.5313 - accuracy: 0.7300 - val_loss: 0.5089 - val_accuracy: 0.7662\n",
      "Epoch 5/100\n",
      "17/17 [==============================] - 0s 7ms/step - loss: 0.5185 - accuracy: 0.7430 - val_loss: 0.4971 - val_accuracy: 0.7619\n",
      "Epoch 6/100\n",
      "17/17 [==============================] - 0s 6ms/step - loss: 0.5093 - accuracy: 0.7467 - val_loss: 0.4868 - val_accuracy: 0.7749\n",
      "Epoch 7/100\n",
      "17/17 [==============================] - 0s 6ms/step - loss: 0.5017 - accuracy: 0.7467 - val_loss: 0.4791 - val_accuracy: 0.7922\n",
      "Epoch 8/100\n",
      "17/17 [==============================] - 0s 6ms/step - loss: 0.4956 - accuracy: 0.7523 - val_loss: 0.4744 - val_accuracy: 0.7879\n",
      "Epoch 9/100\n",
      "17/17 [==============================] - 0s 5ms/step - loss: 0.4908 - accuracy: 0.7542 - val_loss: 0.4709 - val_accuracy: 0.7922\n",
      "Epoch 10/100\n",
      "17/17 [==============================] - 0s 6ms/step - loss: 0.4870 - accuracy: 0.7486 - val_loss: 0.4671 - val_accuracy: 0.7835\n",
      "Epoch 11/100\n",
      "17/17 [==============================] - 0s 7ms/step - loss: 0.4835 - accuracy: 0.7505 - val_loss: 0.4639 - val_accuracy: 0.7792\n",
      "Epoch 12/100\n",
      "17/17 [==============================] - 0s 6ms/step - loss: 0.4808 - accuracy: 0.7505 - val_loss: 0.4617 - val_accuracy: 0.7792\n",
      "Epoch 13/100\n",
      "17/17 [==============================] - 0s 5ms/step - loss: 0.4781 - accuracy: 0.7523 - val_loss: 0.4598 - val_accuracy: 0.7922\n",
      "Epoch 14/100\n",
      "17/17 [==============================] - 0s 5ms/step - loss: 0.4765 - accuracy: 0.7561 - val_loss: 0.4591 - val_accuracy: 0.7879\n",
      "Epoch 15/100\n",
      "17/17 [==============================] - 0s 6ms/step - loss: 0.4741 - accuracy: 0.7579 - val_loss: 0.4577 - val_accuracy: 0.7835\n",
      "Epoch 16/100\n",
      "17/17 [==============================] - 0s 8ms/step - loss: 0.4724 - accuracy: 0.7542 - val_loss: 0.4570 - val_accuracy: 0.7835\n",
      "Epoch 17/100\n",
      "17/17 [==============================] - 0s 6ms/step - loss: 0.4709 - accuracy: 0.7561 - val_loss: 0.4569 - val_accuracy: 0.7792\n",
      "Epoch 18/100\n",
      "17/17 [==============================] - 0s 6ms/step - loss: 0.4695 - accuracy: 0.7616 - val_loss: 0.4553 - val_accuracy: 0.7792\n",
      "Epoch 19/100\n",
      "17/17 [==============================] - 0s 7ms/step - loss: 0.4680 - accuracy: 0.7616 - val_loss: 0.4545 - val_accuracy: 0.7792\n",
      "Epoch 20/100\n",
      "17/17 [==============================] - 0s 6ms/step - loss: 0.4669 - accuracy: 0.7635 - val_loss: 0.4544 - val_accuracy: 0.7792\n",
      "Epoch 21/100\n",
      "17/17 [==============================] - 0s 5ms/step - loss: 0.4664 - accuracy: 0.7635 - val_loss: 0.4543 - val_accuracy: 0.7792\n",
      "Epoch 22/100\n",
      "17/17 [==============================] - 0s 8ms/step - loss: 0.4645 - accuracy: 0.7654 - val_loss: 0.4532 - val_accuracy: 0.7792\n",
      "Epoch 23/100\n",
      "17/17 [==============================] - 0s 5ms/step - loss: 0.4639 - accuracy: 0.7672 - val_loss: 0.4529 - val_accuracy: 0.7835\n",
      "Epoch 24/100\n",
      "17/17 [==============================] - 0s 5ms/step - loss: 0.4628 - accuracy: 0.7691 - val_loss: 0.4517 - val_accuracy: 0.7835\n",
      "Epoch 25/100\n",
      "17/17 [==============================] - 0s 6ms/step - loss: 0.4621 - accuracy: 0.7672 - val_loss: 0.4514 - val_accuracy: 0.7879\n",
      "Epoch 26/100\n",
      "17/17 [==============================] - 0s 6ms/step - loss: 0.4612 - accuracy: 0.7654 - val_loss: 0.4504 - val_accuracy: 0.7965\n",
      "Epoch 27/100\n",
      "17/17 [==============================] - 0s 6ms/step - loss: 0.4606 - accuracy: 0.7709 - val_loss: 0.4508 - val_accuracy: 0.7835\n",
      "Epoch 28/100\n",
      "17/17 [==============================] - 0s 7ms/step - loss: 0.4598 - accuracy: 0.7672 - val_loss: 0.4498 - val_accuracy: 0.7922\n",
      "Epoch 29/100\n",
      "17/17 [==============================] - 0s 5ms/step - loss: 0.4588 - accuracy: 0.7709 - val_loss: 0.4495 - val_accuracy: 0.7922\n",
      "Epoch 30/100\n",
      "17/17 [==============================] - 0s 5ms/step - loss: 0.4584 - accuracy: 0.7728 - val_loss: 0.4486 - val_accuracy: 0.7965\n",
      "Epoch 31/100\n",
      "17/17 [==============================] - 0s 5ms/step - loss: 0.4581 - accuracy: 0.7728 - val_loss: 0.4498 - val_accuracy: 0.7879\n",
      "Epoch 32/100\n",
      "17/17 [==============================] - 0s 5ms/step - loss: 0.4571 - accuracy: 0.7747 - val_loss: 0.4491 - val_accuracy: 0.7922\n",
      "Epoch 33/100\n",
      "17/17 [==============================] - 0s 5ms/step - loss: 0.4564 - accuracy: 0.7747 - val_loss: 0.4480 - val_accuracy: 0.7965\n",
      "Epoch 34/100\n",
      "17/17 [==============================] - 0s 5ms/step - loss: 0.4562 - accuracy: 0.7747 - val_loss: 0.4472 - val_accuracy: 0.7965\n",
      "Epoch 35/100\n",
      "17/17 [==============================] - 0s 7ms/step - loss: 0.4551 - accuracy: 0.7765 - val_loss: 0.4474 - val_accuracy: 0.8009\n",
      "Epoch 36/100\n",
      "17/17 [==============================] - 0s 6ms/step - loss: 0.4547 - accuracy: 0.7728 - val_loss: 0.4476 - val_accuracy: 0.7965\n",
      "Epoch 37/100\n",
      "17/17 [==============================] - 0s 5ms/step - loss: 0.4538 - accuracy: 0.7803 - val_loss: 0.4469 - val_accuracy: 0.7965\n",
      "Epoch 38/100\n",
      "17/17 [==============================] - 0s 5ms/step - loss: 0.4536 - accuracy: 0.7803 - val_loss: 0.4464 - val_accuracy: 0.8009\n",
      "Epoch 39/100\n",
      "17/17 [==============================] - 0s 5ms/step - loss: 0.4527 - accuracy: 0.7803 - val_loss: 0.4465 - val_accuracy: 0.8009\n",
      "Epoch 40/100\n",
      "17/17 [==============================] - 0s 5ms/step - loss: 0.4522 - accuracy: 0.7803 - val_loss: 0.4466 - val_accuracy: 0.8009\n",
      "Epoch 41/100\n",
      "17/17 [==============================] - 0s 5ms/step - loss: 0.4522 - accuracy: 0.7784 - val_loss: 0.4460 - val_accuracy: 0.8009\n",
      "Epoch 42/100\n",
      "17/17 [==============================] - 0s 6ms/step - loss: 0.4516 - accuracy: 0.7840 - val_loss: 0.4459 - val_accuracy: 0.8009\n",
      "Epoch 43/100\n",
      "17/17 [==============================] - 0s 5ms/step - loss: 0.4506 - accuracy: 0.7821 - val_loss: 0.4458 - val_accuracy: 0.8009\n",
      "Epoch 44/100\n",
      "17/17 [==============================] - 0s 6ms/step - loss: 0.4504 - accuracy: 0.7803 - val_loss: 0.4461 - val_accuracy: 0.7965\n",
      "Epoch 45/100\n",
      "17/17 [==============================] - 0s 5ms/step - loss: 0.4501 - accuracy: 0.7821 - val_loss: 0.4458 - val_accuracy: 0.7965\n",
      "Epoch 46/100\n",
      "17/17 [==============================] - 0s 5ms/step - loss: 0.4494 - accuracy: 0.7803 - val_loss: 0.4456 - val_accuracy: 0.7965\n",
      "Epoch 47/100\n",
      "17/17 [==============================] - 0s 6ms/step - loss: 0.4493 - accuracy: 0.7803 - val_loss: 0.4453 - val_accuracy: 0.8009\n",
      "Epoch 48/100\n",
      "17/17 [==============================] - 0s 5ms/step - loss: 0.4487 - accuracy: 0.7821 - val_loss: 0.4456 - val_accuracy: 0.7965\n",
      "Epoch 49/100\n",
      "17/17 [==============================] - 0s 6ms/step - loss: 0.4485 - accuracy: 0.7803 - val_loss: 0.4450 - val_accuracy: 0.7922\n",
      "Epoch 50/100\n",
      "17/17 [==============================] - 0s 5ms/step - loss: 0.4482 - accuracy: 0.7821 - val_loss: 0.4455 - val_accuracy: 0.7922\n",
      "Epoch 51/100\n",
      "17/17 [==============================] - 0s 5ms/step - loss: 0.4471 - accuracy: 0.7840 - val_loss: 0.4448 - val_accuracy: 0.7922\n",
      "Epoch 52/100\n",
      "17/17 [==============================] - 0s 5ms/step - loss: 0.4467 - accuracy: 0.7840 - val_loss: 0.4452 - val_accuracy: 0.7922\n",
      "Epoch 53/100\n",
      "17/17 [==============================] - 0s 5ms/step - loss: 0.4465 - accuracy: 0.7858 - val_loss: 0.4448 - val_accuracy: 0.7922\n",
      "Epoch 54/100\n",
      "17/17 [==============================] - 0s 5ms/step - loss: 0.4462 - accuracy: 0.7840 - val_loss: 0.4452 - val_accuracy: 0.7922\n",
      "Epoch 55/100\n",
      "17/17 [==============================] - 0s 6ms/step - loss: 0.4453 - accuracy: 0.7821 - val_loss: 0.4453 - val_accuracy: 0.7879\n",
      "Epoch 56/100\n",
      "17/17 [==============================] - 0s 5ms/step - loss: 0.4452 - accuracy: 0.7858 - val_loss: 0.4449 - val_accuracy: 0.7922\n",
      "Epoch 57/100\n",
      "17/17 [==============================] - 0s 5ms/step - loss: 0.4447 - accuracy: 0.7877 - val_loss: 0.4446 - val_accuracy: 0.7922\n",
      "Epoch 58/100\n",
      "17/17 [==============================] - 0s 5ms/step - loss: 0.4444 - accuracy: 0.7877 - val_loss: 0.4445 - val_accuracy: 0.7922\n",
      "Epoch 59/100\n",
      "17/17 [==============================] - 0s 5ms/step - loss: 0.4440 - accuracy: 0.7858 - val_loss: 0.4452 - val_accuracy: 0.7922\n",
      "Epoch 60/100\n",
      "17/17 [==============================] - 0s 5ms/step - loss: 0.4441 - accuracy: 0.7840 - val_loss: 0.4437 - val_accuracy: 0.7922\n",
      "Epoch 61/100\n",
      "17/17 [==============================] - 0s 6ms/step - loss: 0.4437 - accuracy: 0.7877 - val_loss: 0.4449 - val_accuracy: 0.7965\n",
      "Epoch 62/100\n",
      "17/17 [==============================] - 0s 6ms/step - loss: 0.4427 - accuracy: 0.7858 - val_loss: 0.4440 - val_accuracy: 0.7922\n",
      "Epoch 63/100\n",
      "17/17 [==============================] - 0s 6ms/step - loss: 0.4420 - accuracy: 0.7877 - val_loss: 0.4439 - val_accuracy: 0.7922\n",
      "Epoch 64/100\n",
      "17/17 [==============================] - 0s 5ms/step - loss: 0.4419 - accuracy: 0.7896 - val_loss: 0.4436 - val_accuracy: 0.7922\n",
      "Epoch 65/100\n",
      "17/17 [==============================] - 0s 5ms/step - loss: 0.4417 - accuracy: 0.7858 - val_loss: 0.4438 - val_accuracy: 0.7922\n",
      "Epoch 66/100\n",
      "17/17 [==============================] - 0s 5ms/step - loss: 0.4410 - accuracy: 0.7877 - val_loss: 0.4431 - val_accuracy: 0.7922\n",
      "Epoch 67/100\n",
      "17/17 [==============================] - 0s 5ms/step - loss: 0.4405 - accuracy: 0.7933 - val_loss: 0.4429 - val_accuracy: 0.7922\n",
      "Epoch 68/100\n",
      "17/17 [==============================] - 0s 5ms/step - loss: 0.4406 - accuracy: 0.7858 - val_loss: 0.4439 - val_accuracy: 0.7922\n",
      "Epoch 69/100\n",
      "17/17 [==============================] - 0s 5ms/step - loss: 0.4400 - accuracy: 0.7840 - val_loss: 0.4428 - val_accuracy: 0.7922\n",
      "Epoch 70/100\n",
      "17/17 [==============================] - 0s 5ms/step - loss: 0.4397 - accuracy: 0.7896 - val_loss: 0.4436 - val_accuracy: 0.7965\n",
      "Epoch 71/100\n",
      "17/17 [==============================] - 0s 6ms/step - loss: 0.4391 - accuracy: 0.7933 - val_loss: 0.4433 - val_accuracy: 0.7879\n",
      "Epoch 72/100\n",
      "17/17 [==============================] - 0s 7ms/step - loss: 0.4395 - accuracy: 0.7877 - val_loss: 0.4441 - val_accuracy: 0.7922\n",
      "Epoch 73/100\n",
      "17/17 [==============================] - 0s 9ms/step - loss: 0.4384 - accuracy: 0.7896 - val_loss: 0.4426 - val_accuracy: 0.7922\n",
      "Epoch 74/100\n",
      "17/17 [==============================] - 0s 8ms/step - loss: 0.4384 - accuracy: 0.7821 - val_loss: 0.4437 - val_accuracy: 0.7922\n",
      "Epoch 75/100\n",
      "17/17 [==============================] - 0s 7ms/step - loss: 0.4382 - accuracy: 0.7896 - val_loss: 0.4432 - val_accuracy: 0.7922\n",
      "Epoch 76/100\n",
      "17/17 [==============================] - 0s 5ms/step - loss: 0.4377 - accuracy: 0.7877 - val_loss: 0.4433 - val_accuracy: 0.7922\n",
      "Epoch 77/100\n",
      "17/17 [==============================] - 0s 6ms/step - loss: 0.4372 - accuracy: 0.7933 - val_loss: 0.4429 - val_accuracy: 0.7922\n",
      "Epoch 78/100\n",
      "17/17 [==============================] - 0s 5ms/step - loss: 0.4370 - accuracy: 0.7896 - val_loss: 0.4439 - val_accuracy: 0.7922\n",
      "Epoch 79/100\n",
      "17/17 [==============================] - 0s 6ms/step - loss: 0.4364 - accuracy: 0.7914 - val_loss: 0.4432 - val_accuracy: 0.7922\n",
      "Epoch 80/100\n",
      "17/17 [==============================] - 0s 6ms/step - loss: 0.4362 - accuracy: 0.7914 - val_loss: 0.4432 - val_accuracy: 0.7922\n",
      "Epoch 81/100\n",
      "17/17 [==============================] - 0s 6ms/step - loss: 0.4360 - accuracy: 0.7933 - val_loss: 0.4426 - val_accuracy: 0.7922\n",
      "Epoch 82/100\n",
      "17/17 [==============================] - 0s 7ms/step - loss: 0.4358 - accuracy: 0.7858 - val_loss: 0.4430 - val_accuracy: 0.7922\n",
      "Epoch 83/100\n",
      "17/17 [==============================] - 0s 6ms/step - loss: 0.4354 - accuracy: 0.7877 - val_loss: 0.4432 - val_accuracy: 0.7922\n",
      "Epoch 84/100\n",
      "17/17 [==============================] - 0s 6ms/step - loss: 0.4347 - accuracy: 0.7896 - val_loss: 0.4434 - val_accuracy: 0.7922\n",
      "Epoch 85/100\n",
      "17/17 [==============================] - 0s 6ms/step - loss: 0.4347 - accuracy: 0.7952 - val_loss: 0.4428 - val_accuracy: 0.7922\n",
      "Epoch 86/100\n",
      "17/17 [==============================] - 0s 4ms/step - loss: 0.4348 - accuracy: 0.7952 - val_loss: 0.4435 - val_accuracy: 0.7922\n",
      "Epoch 87/100\n",
      "17/17 [==============================] - 0s 6ms/step - loss: 0.4340 - accuracy: 0.7952 - val_loss: 0.4428 - val_accuracy: 0.7879\n",
      "Epoch 88/100\n",
      "17/17 [==============================] - 0s 6ms/step - loss: 0.4339 - accuracy: 0.8007 - val_loss: 0.4436 - val_accuracy: 0.7879\n",
      "Epoch 89/100\n",
      "17/17 [==============================] - 0s 4ms/step - loss: 0.4333 - accuracy: 0.7952 - val_loss: 0.4430 - val_accuracy: 0.7922\n",
      "Epoch 90/100\n",
      "17/17 [==============================] - 0s 4ms/step - loss: 0.4329 - accuracy: 0.7970 - val_loss: 0.4434 - val_accuracy: 0.7835\n",
      "Epoch 91/100\n",
      "17/17 [==============================] - 0s 7ms/step - loss: 0.4326 - accuracy: 0.8007 - val_loss: 0.4433 - val_accuracy: 0.7922\n",
      "Epoch 92/100\n",
      "17/17 [==============================] - 0s 5ms/step - loss: 0.4325 - accuracy: 0.7970 - val_loss: 0.4437 - val_accuracy: 0.7922\n",
      "Epoch 93/100\n",
      "17/17 [==============================] - 0s 5ms/step - loss: 0.4322 - accuracy: 0.7989 - val_loss: 0.4431 - val_accuracy: 0.7922\n",
      "Epoch 94/100\n",
      "17/17 [==============================] - 0s 8ms/step - loss: 0.4316 - accuracy: 0.7970 - val_loss: 0.4432 - val_accuracy: 0.7922\n",
      "Epoch 95/100\n",
      "17/17 [==============================] - 0s 6ms/step - loss: 0.4317 - accuracy: 0.7952 - val_loss: 0.4425 - val_accuracy: 0.7879\n",
      "Epoch 96/100\n",
      "17/17 [==============================] - 0s 4ms/step - loss: 0.4311 - accuracy: 0.7970 - val_loss: 0.4425 - val_accuracy: 0.7835\n",
      "Epoch 97/100\n",
      "17/17 [==============================] - 0s 5ms/step - loss: 0.4309 - accuracy: 0.7970 - val_loss: 0.4418 - val_accuracy: 0.7879\n",
      "Epoch 98/100\n",
      "17/17 [==============================] - 0s 7ms/step - loss: 0.4313 - accuracy: 0.7970 - val_loss: 0.4428 - val_accuracy: 0.7879\n",
      "Epoch 99/100\n",
      "17/17 [==============================] - 0s 5ms/step - loss: 0.4307 - accuracy: 0.7989 - val_loss: 0.4431 - val_accuracy: 0.7922\n",
      "Epoch 100/100\n",
      "17/17 [==============================] - 0s 5ms/step - loss: 0.4301 - accuracy: 0.7989 - val_loss: 0.4424 - val_accuracy: 0.7835\n"
     ]
    },
    {
     "data": {
      "text/plain": [
       "<keras.callbacks.History at 0x129b6de57e0>"
      ]
     },
     "execution_count": 53,
     "metadata": {},
     "output_type": "execute_result"
    }
   ],
   "source": [
    "model.fit(X_train,Y_train,batch_size=32,epochs=100,validation_data=(X_test,Y_test))"
   ]
  },
  {
   "attachments": {},
   "cell_type": "markdown",
   "metadata": {},
   "source": [
    "# steps for tuning the layer\n",
    "     1) how to select appropiate optimizer\n",
    "     2) Number of nodes in a layer\n",
    "     3) how to select the number of hidden layers in a model\n",
    "     4) all in model( with all the necesary features)"
   ]
  },
  {
   "cell_type": "code",
   "execution_count": 54,
   "metadata": {},
   "outputs": [],
   "source": [
    "import keras_tuner as kt"
   ]
  },
  {
   "cell_type": "code",
   "execution_count": 55,
   "metadata": {},
   "outputs": [],
   "source": [
    "def build_model(hp):\n",
    "\n",
    "    model = Sequential()\n",
    "\n",
    "    model.add(Dense(32,activation='relu',input_dim = 8))\n",
    "    model.add(Dense(1,activation ='sigmoid'))\n",
    "\n",
    "    optimizer = hp.Choice('optimizer',values =['adam','sgd','rmsprop','adadelta'])\n",
    "\n",
    "    model.compile(optimizer=optimizer,loss = 'binary_crossentropy',metrics=['accuracy'])\n",
    "\n",
    "    return model"
   ]
  },
  {
   "cell_type": "code",
   "execution_count": 56,
   "metadata": {},
   "outputs": [],
   "source": [
    "tuner = kt.RandomSearch(build_model,objective='val_accuracy',max_trials=5)"
   ]
  },
  {
   "cell_type": "code",
   "execution_count": 57,
   "metadata": {},
   "outputs": [
    {
     "name": "stdout",
     "output_type": "stream",
     "text": [
      "Trial 4 Complete [00h 00m 02s]\n",
      "val_accuracy: 0.35930734872817993\n",
      "\n",
      "Best val_accuracy So Far: 0.7532467246055603\n",
      "Total elapsed time: 00h 00m 12s\n",
      "INFO:tensorflow:Oracle triggered exit\n"
     ]
    }
   ],
   "source": [
    "tuner.search(X_train,Y_train ,epochs =5,validation_data =(X_test,Y_test))"
   ]
  },
  {
   "cell_type": "code",
   "execution_count": 58,
   "metadata": {},
   "outputs": [
    {
     "data": {
      "text/plain": [
       "{'optimizer': 'adam'}"
      ]
     },
     "execution_count": 58,
     "metadata": {},
     "output_type": "execute_result"
    }
   ],
   "source": [
    "tuner.get_best_hyperparameters()[0].values"
   ]
  },
  {
   "cell_type": "code",
   "execution_count": null,
   "metadata": {},
   "outputs": [],
   "source": []
  }
 ],
 "metadata": {
  "kernelspec": {
   "display_name": "Python 3",
   "language": "python",
   "name": "python3"
  },
  "language_info": {
   "codemirror_mode": {
    "name": "ipython",
    "version": 3
   },
   "file_extension": ".py",
   "mimetype": "text/x-python",
   "name": "python",
   "nbconvert_exporter": "python",
   "pygments_lexer": "ipython3",
   "version": "3.10.6"
  },
  "orig_nbformat": 4
 },
 "nbformat": 4,
 "nbformat_minor": 2
}
