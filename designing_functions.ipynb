{
 "cells": [
  {
   "cell_type": "code",
   "execution_count": 1,
   "metadata": {},
   "outputs": [],
   "source": [
    "import numpy as np\n",
    "import pandas as pd"
   ]
  },
  {
   "attachments": {},
   "cell_type": "markdown",
   "metadata": {},
   "source": [
    "# creating Euclidean distance\n",
    "# d = √((x2 - x1)² + (y2 - y1)²)"
   ]
  },
  {
   "cell_type": "code",
   "execution_count": 2,
   "metadata": {},
   "outputs": [
    {
     "name": "stdout",
     "output_type": "stream",
     "text": [
      "1.4142135623730951\n"
     ]
    }
   ],
   "source": [
    "pointa = [1,1]\n",
    "pointb = [2,2]\n",
    "\n",
    "dist = (pointa[0] - pointb[0])**2 + (pointa[1] - pointb[1])**2\n",
    "\n",
    "euclidean_dist = np.sqrt(dist)\n",
    "print(euclidean_dist)"
   ]
  },
  {
   "cell_type": "code",
   "execution_count": 3,
   "metadata": {},
   "outputs": [
    {
     "name": "stdout",
     "output_type": "stream",
     "text": [
      "1.7320508075688772\n"
     ]
    }
   ],
   "source": [
    "\n",
    "\n",
    "# taking into sonsideration 3 dimensions\n",
    "\n",
    "\n",
    "pointa = (1,1,1)\n",
    "pointb = (2,2,2)\n",
    "\n",
    "\n",
    "# calculating the distance\n",
    "\n",
    "dist1  = (pointa[0] - pointb[0])**2 + (pointa[1] - pointb[1])**2 + (pointa[2] - pointb[2])**2\n",
    "\n",
    "\n",
    "\n",
    "euclidean_dist1 = np.sqrt(dist1)\n",
    "print(euclidean_dist1)\n",
    "\n"
   ]
  },
  {
   "cell_type": "code",
   "execution_count": 8,
   "metadata": {},
   "outputs": [
    {
     "data": {
      "text/plain": [
       "2.23606797749979"
      ]
     },
     "execution_count": 8,
     "metadata": {},
     "output_type": "execute_result"
    }
   ],
   "source": [
    "# creating for multiple dimensions\n",
    "\n",
    "pointa = (1,1,1,1,1)\n",
    "pointb = (2,2,2,2,2)\n",
    "\n",
    "def get_euclidean_dist(p1,p2):\n",
    "\n",
    "    dist = 0\n",
    "\n",
    "    for i in range (len(p1)):\n",
    "\n",
    "        dist = dist + (p1[i] - p2[i])**2\n",
    "\n",
    "    euclidean_dist = np.sqrt(dist)\n",
    "\n",
    "    return euclidean_dist\n",
    "\n",
    "get_euclidean_dist(pointa,pointb)\n"
   ]
  },
  {
   "attachments": {},
   "cell_type": "markdown",
   "metadata": {},
   "source": [
    " # creating manhattan distance formulae\n",
    " # d = |x2 - x1| + |y2 - y1|"
   ]
  },
  {
   "cell_type": "code",
   "execution_count": 7,
   "metadata": {},
   "outputs": [
    {
     "data": {
      "text/plain": [
       "4"
      ]
     },
     "execution_count": 7,
     "metadata": {},
     "output_type": "execute_result"
    }
   ],
   "source": [
    "def get_manhattan_distance(p1,p2):\n",
    "    dist = 0\n",
    "\n",
    "    for i in range(len(p1)):\n",
    "        dist = dist + abs(p1[i] - p2[i])\n",
    "\n",
    "        manhattan_distance = dist\n",
    "\n",
    "    return manhattan_distance\n",
    "\n",
    "\n",
    "pointa = (1,1,1,1)\n",
    "pointb = (2,2,2,2)\n",
    " # abs is absolute value acts as modulus\n",
    "get_manhattan_distance(pointa,pointb)"
   ]
  },
  {
   "cell_type": "code",
   "execution_count": 9,
   "metadata": {},
   "outputs": [
    {
     "name": "stdout",
     "output_type": "stream",
     "text": [
      "26.379727064547122\n",
      "42.7\n"
     ]
    }
   ],
   "source": [
    "# now lets distance between the points the given data set which gives similar output class\n",
    "\n",
    "pointa = (63,1,3,145,233,1,0,150,0,2.3,0,0,1)\n",
    "pointb = (64,1,3,170,227,0,0,155,0,0.6,1,0,3)\n",
    "\n",
    "print(get_euclidean_dist(pointa,pointb))\n",
    "print(get_manhattan_distance(pointa,pointb))"
   ]
  },
  {
   "cell_type": "code",
   "execution_count": 10,
   "metadata": {},
   "outputs": [
    {
     "name": "stdout",
     "output_type": "stream",
     "text": [
      "85.74852768415327\n",
      "162.9\n"
     ]
    }
   ],
   "source": [
    "# now checking which has different output class checking the distance these should be greater\n",
    "\n",
    "pointa =(58,1,2,105,240,0,0,154,1,0.6,1,0,3)\n",
    "pointb =(67,1,0,160,286,0,0,108,1,1.5,1,3,2)\n",
    "\n",
    "print(get_euclidean_dist(pointa,pointb))\n",
    "print(get_manhattan_distance(pointa,pointb))"
   ]
  },
  {
   "cell_type": "code",
   "execution_count": 1,
   "metadata": {},
   "outputs": [],
   "source": [
    "from implement import feature_engg"
   ]
  },
  {
   "cell_type": "code",
   "execution_count": null,
   "metadata": {},
   "outputs": [],
   "source": []
  }
 ],
 "metadata": {
  "kernelspec": {
   "display_name": "KNN",
   "language": "python",
   "name": "python3"
  },
  "language_info": {
   "codemirror_mode": {
    "name": "ipython",
    "version": 3
   },
   "file_extension": ".py",
   "mimetype": "text/x-python",
   "name": "python",
   "nbconvert_exporter": "python",
   "pygments_lexer": "ipython3",
   "version": "3.11.3"
  },
  "orig_nbformat": 4
 },
 "nbformat": 4,
 "nbformat_minor": 2
}
