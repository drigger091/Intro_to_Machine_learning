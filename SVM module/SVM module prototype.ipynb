{
 "cells": [
  {
   "cell_type": "markdown",
   "metadata": {},
   "source": [
    "# SVM classifier"
   ]
  },
  {
   "cell_type": "markdown",
   "metadata": {},
   "source": [
    "Equation of the Hyperplane:\n",
    "\n",
    "**y = wx - b**"
   ]
  },
  {
   "cell_type": "markdown",
   "metadata": {},
   "source": [
    "Gradient Descent:\n",
    "\n",
    "Gradient Descent is an optimization algorithm used for minimizing the loss function in various machine learning algorithms. It is used for updating the parameters of the learning model.\n",
    "\n",
    "w = w - α*dw\n",
    "\n",
    "b = b - α*db"
   ]
  },
  {
   "cell_type": "markdown",
   "metadata": {},
   "source": [
    "Learning Rate:\n",
    "\n",
    "Learning rate is a tuning parameter in an optimization algorithm that determines the step size at each iteration while moving toward a minimum of a loss function"
   ]
  },
  {
   "cell_type": "markdown",
   "metadata": {},
   "source": [
    "# weights are an array that is the total number of columsn -1 in the model"
   ]
  },
  {
   "cell_type": "code",
   "execution_count": 2,
   "metadata": {},
   "outputs": [],
   "source": [
    "#importing necesary lbraries\n",
    "\n",
    "import pandas as pd\n",
    "import numpy as np"
   ]
  },
  {
   "cell_type": "code",
   "execution_count": null,
   "metadata": {},
   "outputs": [],
   "source": [
    "#learing rate = the amont of changes you want to import on your wights and bias\n",
    "# number of iterations = how many times my model will go thrtough the data set and after each repition will\n",
    "# chnage my wight value and bias value\n",
    "#parameter = regulizaryion paramter"
   ]
  },
  {
   "cell_type": "markdown",
   "metadata": {},
   "source": [
    "# SVM classifier"
   ]
  },
  {
   "cell_type": "code",
   "execution_count": 3,
   "metadata": {},
   "outputs": [],
   "source": [
    "class svm_classifer():\n",
    "\n",
    "\n",
    "#initiating the hyper parameters( which are learning rate and the number of iterations)\n",
    "    def __init__(self,learning_rate , no_of_iterations, lambda_parameter):\n",
    "        self.learning_rate = learning_rate\n",
    "        self.no_of_iterations = no_of_iterations\n",
    "        self.lamda_parameter = lambda_parameter\n",
    "\n",
    "        \n",
    "\n",
    "        pass\n",
    "\n",
    "#fitting the dataset to the classifier\n",
    "    def fit(self,X,Y):\n",
    "    #m --> The number of Data points---> number of rows\n",
    "    #n --> the number of input features------> number of columns(dependent features excluding the output column)\n",
    "\n",
    "        self.m,self.n = X.shape\n",
    "\n",
    "        #intiating the wright value and bias value\n",
    "\n",
    "        self.w = np.zeros(self.n)  # n is the nmber of columns\n",
    "        self.b = 0\n",
    "        self.X = X   # x is the independent featurs\n",
    "        self.Y = Y  # y is the dependent feature(outcome column)\n",
    "\n",
    "        #implementing gradient descent algorithm for optimization\n",
    "\n",
    "        for i in range(self.no_of_iterations):\n",
    "            self.update_weights()\n",
    "\n",
    "\n",
    "         \n",
    "#functions for updating the wights on the weights and bias value\n",
    "    def update_weights(self):\n",
    "        pass\n",
    "# predicting a label for the given input value\n",
    "    def predict(self):\n",
    "        pass"
   ]
  },
  {
   "cell_type": "code",
   "execution_count": null,
   "metadata": {},
   "outputs": [],
   "source": [
    "model = svm_classifer(learning_rate =0.001 , no_of_iterations = 1000, lambda_parameter = 0.01)"
   ]
  }
 ],
 "metadata": {
  "kernelspec": {
   "display_name": "SVM",
   "language": "python",
   "name": "python3"
  },
  "language_info": {
   "codemirror_mode": {
    "name": "ipython",
    "version": 3
   },
   "file_extension": ".py",
   "mimetype": "text/x-python",
   "name": "python",
   "nbconvert_exporter": "python",
   "pygments_lexer": "ipython3",
   "version": "3.10.6"
  },
  "orig_nbformat": 4
 },
 "nbformat": 4,
 "nbformat_minor": 2
}
